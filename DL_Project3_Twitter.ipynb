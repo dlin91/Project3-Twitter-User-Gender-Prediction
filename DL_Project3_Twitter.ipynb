{
 "cells": [
  {
   "cell_type": "code",
   "execution_count": 1,
   "metadata": {},
   "outputs": [],
   "source": [
    "import pandas as pd\n",
    "import numpy as np\n",
    "import seaborn as sns\n",
    "import matplotlib.pyplot as plt\n",
    "import string\n",
    "import re\n",
    "\n",
    "import pandas as pd\n",
    "import numpy as np\n",
    "import statsmodels.api as sm\n",
    "import statsmodels.formula.api as smf\n",
    "import patsy\n",
    "\n",
    "import seaborn as sns\n",
    "import matplotlib.pyplot as plt\n",
    "from sklearn.linear_model import LinearRegression, LogisticRegression\n",
    "from sklearn.linear_model import RidgeCV\n",
    "%matplotlib inline\n",
    "from statsmodels.stats.outliers_influence import variance_inflation_factor\n",
    "from sklearn.model_selection import train_test_split\n",
    "from sklearn.linear_model import LinearRegression, Lasso, LassoCV, Ridge, RidgeCV\n",
    "from sklearn.metrics import r2_score\n",
    "from sklearn.model_selection import cross_val_score, cross_val_predict\n",
    "from sklearn.model_selection import KFold\n",
    "from sklearn import metrics, model_selection\n",
    "from sklearn.pipeline import Pipeline\n",
    "from sklearn.preprocessing import StandardScaler, MinMaxScaler\n",
    "from sklearn.feature_extraction.text import CountVectorizer\n",
    "from sklearn.preprocessing import LabelEncoder\n",
    "from sklearn.naive_bayes import BernoulliNB, MultinomialNB, GaussianNB\n",
    "from sklearn.tree import DecisionTreeClassifier\n",
    "from sklearn.neighbors import KNeighborsClassifier\n",
    "from sklearn.svm import SVC\n",
    "from sklearn.metrics import precision_score, recall_score, precision_recall_curve,f1_score, fbeta_score\n",
    "from sklearn.metrics import roc_auc_score, roc_curve, auc\n",
    "from sklearn.model_selection import StratifiedKFold, GridSearchCV\n",
    "from sklearn.ensemble import VotingClassifier, RandomForestClassifier\n",
    "import csv\n",
    "\n",
    "import pandas.io.sql as pd_sql\n",
    "\n",
    "from collections import defaultdict\n",
    "\n",
    "import os\n",
    "\n",
    "import psycopg2 as pg\n",
    "from psycopg2.extensions import ISOLATION_LEVEL_AUTOCOMMIT\n",
    "from psycopg2 import OperationalError, errorcodes, errors\n",
    "\n",
    "from tqdm import tqdm\n",
    "\n",
    "import pprint as pp"
   ]
  },
  {
   "cell_type": "code",
   "execution_count": 2,
   "metadata": {},
   "outputs": [],
   "source": [
    "# connection_args = {'host': '13.57.109.83', \n",
    "#                    'user':'ubuntu', \n",
    "#                    'password':'', \n",
    "#                    'port': 5432}"
   ]
  },
  {
   "cell_type": "code",
   "execution_count": 3,
   "metadata": {},
   "outputs": [],
   "source": [
    "# connection_args['dbname'] = 'twitter_users'\n",
    "# connection = pg.connect(**connection_args)\n",
    "\n",
    "\n",
    "# connection.autocommit = True\n",
    "\n",
    "# cursor = connection.cursor()\n",
    "\n",
    "\n",
    "# # connection.set_isolation_level(ISOLATION_LEVEL_AUTOCOMMIT)"
   ]
  },
  {
   "cell_type": "code",
   "execution_count": 4,
   "metadata": {},
   "outputs": [],
   "source": [
    "# query = \"SELECT gender, description, fav_number, link_color, name, retweet_count, sidebar_color, text, tweet_count, user_timezone FROM dl_dft LIMIT 5;\"\n",
    "\n",
    "# #run the query\n",
    "# cursor.execute(query)\n",
    "\n",
    "# #fetch the results\n",
    "# results = list(cursor.fetchall())\n",
    "\n"
   ]
  },
  {
   "cell_type": "code",
   "execution_count": 5,
   "metadata": {},
   "outputs": [],
   "source": [
    "# df = pd_sql.read_sql_query(query, connection)"
   ]
  },
  {
   "cell_type": "code",
   "execution_count": 6,
   "metadata": {},
   "outputs": [],
   "source": [
    "# df = pd.DataFrame(df, columns=['gender', 'description', 'fav_number', 'link_color', 'name', 'retweet_count', 'sidebar_color', 'text', 'tweet_count', 'user_timezone'])"
   ]
  },
  {
   "cell_type": "code",
   "execution_count": null,
   "metadata": {},
   "outputs": [],
   "source": []
  },
  {
   "cell_type": "code",
   "execution_count": 7,
   "metadata": {
    "scrolled": true
   },
   "outputs": [
    {
     "data": {
      "text/html": [
       "<div>\n",
       "<style scoped>\n",
       "    .dataframe tbody tr th:only-of-type {\n",
       "        vertical-align: middle;\n",
       "    }\n",
       "\n",
       "    .dataframe tbody tr th {\n",
       "        vertical-align: top;\n",
       "    }\n",
       "\n",
       "    .dataframe thead th {\n",
       "        text-align: right;\n",
       "    }\n",
       "</style>\n",
       "<table border=\"1\" class=\"dataframe\">\n",
       "  <thead>\n",
       "    <tr style=\"text-align: right;\">\n",
       "      <th></th>\n",
       "      <th>gender</th>\n",
       "      <th>description</th>\n",
       "      <th>fav_number</th>\n",
       "      <th>link_color</th>\n",
       "      <th>name</th>\n",
       "      <th>retweet_count</th>\n",
       "      <th>sidebar_color</th>\n",
       "      <th>text</th>\n",
       "      <th>tweet_count</th>\n",
       "      <th>user_timezone</th>\n",
       "    </tr>\n",
       "  </thead>\n",
       "  <tbody>\n",
       "    <tr>\n",
       "      <td>0</td>\n",
       "      <td>male</td>\n",
       "      <td>i sing my own rhythm.</td>\n",
       "      <td>0</td>\n",
       "      <td>08C2C2</td>\n",
       "      <td>sheezy0</td>\n",
       "      <td>0</td>\n",
       "      <td>FFFFFF</td>\n",
       "      <td>Robbie E Responds To Critics After Win Against...</td>\n",
       "      <td>110964</td>\n",
       "      <td>Chennai</td>\n",
       "    </tr>\n",
       "    <tr>\n",
       "      <td>1</td>\n",
       "      <td>male</td>\n",
       "      <td>I'm the author of novels filled with family dr...</td>\n",
       "      <td>68</td>\n",
       "      <td>0084B4</td>\n",
       "      <td>DavdBurnett</td>\n",
       "      <td>0</td>\n",
       "      <td>C0DEED</td>\n",
       "      <td>���It felt like they were my friends and I was...</td>\n",
       "      <td>7471</td>\n",
       "      <td>Eastern Time (US &amp; Canada)</td>\n",
       "    </tr>\n",
       "    <tr>\n",
       "      <td>2</td>\n",
       "      <td>male</td>\n",
       "      <td>louis whining and squealing and all</td>\n",
       "      <td>7696</td>\n",
       "      <td>ABB8C2</td>\n",
       "      <td>lwtprettylaugh</td>\n",
       "      <td>1</td>\n",
       "      <td>C0DEED</td>\n",
       "      <td>i absolutely adore when louis starts the songs...</td>\n",
       "      <td>5617</td>\n",
       "      <td>Belgrade</td>\n",
       "    </tr>\n",
       "    <tr>\n",
       "      <td>3</td>\n",
       "      <td>male</td>\n",
       "      <td>Mobile guy.  49ers, Shazam, Google, Kleiner Pe...</td>\n",
       "      <td>202</td>\n",
       "      <td>0084B4</td>\n",
       "      <td>douggarland</td>\n",
       "      <td>0</td>\n",
       "      <td>C0DEED</td>\n",
       "      <td>Hi @JordanSpieth - Looking at the url - do you...</td>\n",
       "      <td>1693</td>\n",
       "      <td>Pacific Time (US &amp; Canada)</td>\n",
       "    </tr>\n",
       "    <tr>\n",
       "      <td>4</td>\n",
       "      <td>female</td>\n",
       "      <td>you don't know me.</td>\n",
       "      <td>3901</td>\n",
       "      <td>F5ABB5</td>\n",
       "      <td>monroevicious</td>\n",
       "      <td>0</td>\n",
       "      <td>0</td>\n",
       "      <td>Ive seen people on the train with lamps, chair...</td>\n",
       "      <td>20036</td>\n",
       "      <td>Central Time (US &amp; Canada)</td>\n",
       "    </tr>\n",
       "    <tr>\n",
       "      <td>...</td>\n",
       "      <td>...</td>\n",
       "      <td>...</td>\n",
       "      <td>...</td>\n",
       "      <td>...</td>\n",
       "      <td>...</td>\n",
       "      <td>...</td>\n",
       "      <td>...</td>\n",
       "      <td>...</td>\n",
       "      <td>...</td>\n",
       "      <td>...</td>\n",
       "    </tr>\n",
       "    <tr>\n",
       "      <td>11141</td>\n",
       "      <td>female</td>\n",
       "      <td>25. love my friends &amp; family. the color pink. ...</td>\n",
       "      <td>436</td>\n",
       "      <td>B40B43</td>\n",
       "      <td>Cait89lovesTWD</td>\n",
       "      <td>0</td>\n",
       "      <td>FFFFFF</td>\n",
       "      <td>Beetlejuice is the perfect Halloween movie!!!!...</td>\n",
       "      <td>7004</td>\n",
       "      <td>Atlantic Time (Canada)</td>\n",
       "    </tr>\n",
       "    <tr>\n",
       "      <td>11142</td>\n",
       "      <td>male</td>\n",
       "      <td>Typographer and typographic consultant, co-fou...</td>\n",
       "      <td>1762</td>\n",
       "      <td>990000</td>\n",
       "      <td>NickSherman</td>\n",
       "      <td>0</td>\n",
       "      <td>FFFFFF</td>\n",
       "      <td>@TrentWalton @oguzbilgic Spell it out in all-c...</td>\n",
       "      <td>9092</td>\n",
       "      <td>Eastern Time (US &amp; Canada)</td>\n",
       "    </tr>\n",
       "    <tr>\n",
       "      <td>11143</td>\n",
       "      <td>male</td>\n",
       "      <td>Houston Chronicle Columnist  - ken.hoffman@chr...</td>\n",
       "      <td>50</td>\n",
       "      <td>DD2E44</td>\n",
       "      <td>KenChronicle</td>\n",
       "      <td>0</td>\n",
       "      <td>0</td>\n",
       "      <td>Discovered it in England. It's how they eat fi...</td>\n",
       "      <td>3084</td>\n",
       "      <td>Central Time (US &amp; Canada)</td>\n",
       "    </tr>\n",
       "    <tr>\n",
       "      <td>11144</td>\n",
       "      <td>brand</td>\n",
       "      <td>When families go through divorce, it's helpful...</td>\n",
       "      <td>2</td>\n",
       "      <td>0084B4</td>\n",
       "      <td>MommyandDaddyar</td>\n",
       "      <td>0</td>\n",
       "      <td>C0DEED</td>\n",
       "      <td>For Stan and Lisa... has #Coffee Cup at https:...</td>\n",
       "      <td>105864</td>\n",
       "      <td>Mountain Time (US &amp; Canada)</td>\n",
       "    </tr>\n",
       "    <tr>\n",
       "      <td>11145</td>\n",
       "      <td>brand</td>\n",
       "      <td>Reviews of delectable #food, picturesque #trav...</td>\n",
       "      <td>536</td>\n",
       "      <td>A30000</td>\n",
       "      <td>HedonistShednst</td>\n",
       "      <td>0</td>\n",
       "      <td>948C75</td>\n",
       "      <td>Best Bloody Mary Brunch at the #NYCWFF @nyceff...</td>\n",
       "      <td>5900</td>\n",
       "      <td>Eastern Time (US &amp; Canada)</td>\n",
       "    </tr>\n",
       "  </tbody>\n",
       "</table>\n",
       "<p>11146 rows × 10 columns</p>\n",
       "</div>"
      ],
      "text/plain": [
       "       gender                                        description  fav_number  \\\n",
       "0        male                              i sing my own rhythm.           0   \n",
       "1        male  I'm the author of novels filled with family dr...          68   \n",
       "2        male                louis whining and squealing and all        7696   \n",
       "3        male  Mobile guy.  49ers, Shazam, Google, Kleiner Pe...         202   \n",
       "4      female                                 you don't know me.        3901   \n",
       "...       ...                                                ...         ...   \n",
       "11141  female  25. love my friends & family. the color pink. ...         436   \n",
       "11142    male  Typographer and typographic consultant, co-fou...        1762   \n",
       "11143    male  Houston Chronicle Columnist  - ken.hoffman@chr...          50   \n",
       "11144   brand  When families go through divorce, it's helpful...           2   \n",
       "11145   brand  Reviews of delectable #food, picturesque #trav...         536   \n",
       "\n",
       "      link_color             name  retweet_count sidebar_color  \\\n",
       "0         08C2C2          sheezy0              0        FFFFFF   \n",
       "1         0084B4      DavdBurnett              0        C0DEED   \n",
       "2         ABB8C2   lwtprettylaugh              1        C0DEED   \n",
       "3         0084B4      douggarland              0        C0DEED   \n",
       "4         F5ABB5    monroevicious              0             0   \n",
       "...          ...              ...            ...           ...   \n",
       "11141     B40B43   Cait89lovesTWD              0        FFFFFF   \n",
       "11142     990000      NickSherman              0        FFFFFF   \n",
       "11143     DD2E44     KenChronicle              0             0   \n",
       "11144     0084B4  MommyandDaddyar              0        C0DEED   \n",
       "11145     A30000  HedonistShednst              0        948C75   \n",
       "\n",
       "                                                    text  tweet_count  \\\n",
       "0      Robbie E Responds To Critics After Win Against...       110964   \n",
       "1      ���It felt like they were my friends and I was...         7471   \n",
       "2      i absolutely adore when louis starts the songs...         5617   \n",
       "3      Hi @JordanSpieth - Looking at the url - do you...         1693   \n",
       "4      Ive seen people on the train with lamps, chair...        20036   \n",
       "...                                                  ...          ...   \n",
       "11141  Beetlejuice is the perfect Halloween movie!!!!...         7004   \n",
       "11142  @TrentWalton @oguzbilgic Spell it out in all-c...         9092   \n",
       "11143  Discovered it in England. It's how they eat fi...         3084   \n",
       "11144  For Stan and Lisa... has #Coffee Cup at https:...       105864   \n",
       "11145  Best Bloody Mary Brunch at the #NYCWFF @nyceff...         5900   \n",
       "\n",
       "                     user_timezone  \n",
       "0                          Chennai  \n",
       "1       Eastern Time (US & Canada)  \n",
       "2                         Belgrade  \n",
       "3       Pacific Time (US & Canada)  \n",
       "4       Central Time (US & Canada)  \n",
       "...                            ...  \n",
       "11141       Atlantic Time (Canada)  \n",
       "11142   Eastern Time (US & Canada)  \n",
       "11143   Central Time (US & Canada)  \n",
       "11144  Mountain Time (US & Canada)  \n",
       "11145   Eastern Time (US & Canada)  \n",
       "\n",
       "[11146 rows x 10 columns]"
      ]
     },
     "execution_count": 7,
     "metadata": {},
     "output_type": "execute_result"
    }
   ],
   "source": [
    "df = pd.read_csv('./gender.csv', index_col=[0], engine='python')\n",
    "df"
   ]
  },
  {
   "cell_type": "code",
   "execution_count": 8,
   "metadata": {},
   "outputs": [],
   "source": [
    "# #drop unwanted columns\n",
    "\n",
    "df.drop(['user_timezone', 'link_color', 'name'], axis=1, inplace=True)"
   ]
  },
  {
   "cell_type": "code",
   "execution_count": 9,
   "metadata": {},
   "outputs": [
    {
     "name": "stdout",
     "output_type": "stream",
     "text": [
      "<class 'pandas.core.frame.DataFrame'>\n",
      "Int64Index: 11146 entries, 0 to 11145\n",
      "Data columns (total 7 columns):\n",
      "gender           11146 non-null object\n",
      "description      11146 non-null object\n",
      "fav_number       11146 non-null int64\n",
      "retweet_count    11146 non-null int64\n",
      "sidebar_color    11146 non-null object\n",
      "text             11146 non-null object\n",
      "tweet_count      11146 non-null int64\n",
      "dtypes: int64(3), object(4)\n",
      "memory usage: 696.6+ KB\n"
     ]
    }
   ],
   "source": [
    "# check the data types\n",
    "df.info()"
   ]
  },
  {
   "cell_type": "code",
   "execution_count": 10,
   "metadata": {},
   "outputs": [],
   "source": [
    "#function that cleans the text. \n",
    "\n",
    "def get_clean_text (s):\n",
    "    '''clean up text. remove punctuation and random symbols\n",
    "    '''\n",
    "    s = str(s)\n",
    "    s = s.lower()\n",
    "    s = re.sub('\\s\\W', ' ', s)    \n",
    "    s = re.sub('\\W\\s', '', s) \n",
    "    s = re.sub('\\s+', ' ', s)\n",
    "             \n",
    "                    \n",
    "    return s\n"
   ]
  },
  {
   "cell_type": "code",
   "execution_count": 11,
   "metadata": {},
   "outputs": [],
   "source": [
    "#Clean text and description. Remove NaN from rows\n",
    "df['clean_text'] = [get_clean_text(s) for s in df['text']]\n",
    "df['clean_des'] = [get_clean_text(s) for s in df['description']]\n",
    "df = df.dropna(subset=['gender', 'clean_text', 'clean_des'])\n"
   ]
  },
  {
   "cell_type": "code",
   "execution_count": 12,
   "metadata": {},
   "outputs": [],
   "source": [
    "#drop these columns since we made new columns with cleaned text\n",
    "df.drop(['text', 'description'], axis = 1, inplace=True)"
   ]
  },
  {
   "cell_type": "code",
   "execution_count": 13,
   "metadata": {},
   "outputs": [
    {
     "data": {
      "text/plain": [
       "(11146, 7)"
      ]
     },
     "execution_count": 13,
     "metadata": {},
     "output_type": "execute_result"
    }
   ],
   "source": [
    "df.shape"
   ]
  },
  {
   "cell_type": "code",
   "execution_count": 14,
   "metadata": {},
   "outputs": [
    {
     "name": "stdout",
     "output_type": "stream",
     "text": [
      "[[0 0 0 ... 0 0 0]\n",
      " [0 0 0 ... 0 0 0]\n",
      " [0 0 0 ... 0 0 0]\n",
      " ...\n",
      " [0 0 0 ... 0 0 0]\n",
      " [0 0 0 ... 0 0 0]\n",
      " [0 0 1 ... 0 0 0]]\n",
      "11146\n"
     ]
    }
   ],
   "source": [
    "''' Use Bag of Words. Run count vector on text features and return a array. \n",
    "    Set stop word to english. \n",
    "    Set max_df to 0.8: if a word occurs in more than 80% of corpus then remove. -useless words like \"the\", \"a\"..etc \n",
    "    Set max_features to 100: We only want to top words used, since there are >20000 unique words. \n",
    "    '''\n",
    "\n",
    "\n",
    "count_vectorizer = CountVectorizer(ngram_range=(1, 1),  \n",
    "                                   stop_words='english', \n",
    "                                   token_pattern=\"\\\\b[a-z][a-z]+\\\\b\",\n",
    "                                   lowercase=True,\n",
    "                                   max_df = 0.8, max_features = 100)\n",
    "\n",
    "df1 = count_vectorizer.fit_transform(df['clean_text'])\n",
    "print(df1.toarray())\n",
    "print(len(df1.toarray()))"
   ]
  },
  {
   "cell_type": "code",
   "execution_count": 20,
   "metadata": {},
   "outputs": [],
   "source": []
  },
  {
   "cell_type": "code",
   "execution_count": 24,
   "metadata": {},
   "outputs": [
    {
     "ename": "AttributeError",
     "evalue": "'CountVectorizer' object has no attribute 'count_vectorizer'",
     "output_type": "error",
     "traceback": [
      "\u001b[0;31m---------------------------------------------------------------------------\u001b[0m",
      "\u001b[0;31mAttributeError\u001b[0m                            Traceback (most recent call last)",
      "\u001b[0;32m<ipython-input-24-2b62f02abb5e>\u001b[0m in \u001b[0;36m<module>\u001b[0;34m\u001b[0m\n\u001b[0;32m----> 1\u001b[0;31m \u001b[0mdf2\u001b[0m\u001b[0;34m.\u001b[0m\u001b[0mcount_vectorizer\u001b[0m\u001b[0;34m.\u001b[0m\u001b[0mtransform\u001b[0m\u001b[0;34m\u001b[0m\u001b[0;34m\u001b[0m\u001b[0m\n\u001b[0m",
      "\u001b[0;31mAttributeError\u001b[0m: 'CountVectorizer' object has no attribute 'count_vectorizer'"
     ]
    }
   ],
   "source": []
  },
  {
   "cell_type": "code",
   "execution_count": 15,
   "metadata": {},
   "outputs": [
    {
     "name": "stdout",
     "output_type": "stream",
     "text": [
      "       amas  bad  best  better  big  black  business  check  come  day  ...  \\\n",
      "0         0    0     0       0    0      0         0      0     0    0  ...   \n",
      "1         0    0     0       0    0      0         0      0     0    0  ...   \n",
      "2         0    0     0       0    0      0         0      0     0    0  ...   \n",
      "3         0    0     0       0    0      0         0      0     0    0  ...   \n",
      "4         0    0     0       0    0      0         0      0     0    0  ...   \n",
      "...     ...  ...   ...     ...  ...    ...       ...    ...   ...  ...  ...   \n",
      "11141     0    0     0       0    0      0         0      0     0    0  ...   \n",
      "11142     0    0     0       0    0      0         0      0     0    0  ...   \n",
      "11143     0    0     0       0    0      0         0      0     0    0  ...   \n",
      "11144     0    0     0       0    0      0         0      0     0    0  ...   \n",
      "11145     0    0     1       0    0      0         0      0     0    0  ...   \n",
      "\n",
      "       want  watch  way  week  went  win  work  world  year  youtube  \n",
      "0         0      0    0     0     0    1     0      0     0        0  \n",
      "1         0      0    0     0     0    0     0      0     0        0  \n",
      "2         0      0    0     0     0    0     0      0     0        0  \n",
      "3         0      0    0     0     0    0     0      0     0        0  \n",
      "4         0      0    0     0     0    0     0      0     0        0  \n",
      "...     ...    ...  ...   ...   ...  ...   ...    ...   ...      ...  \n",
      "11141     0      0    0     0     0    0     0      0     0        0  \n",
      "11142     0      0    0     0     0    0     0      0     0        0  \n",
      "11143     0      0    0     0     1    0     0      0     0        0  \n",
      "11144     0      0    0     0     0    0     0      0     0        0  \n",
      "11145     0      0    0     0     0    0     0      0     0        0  \n",
      "\n",
      "[11146 rows x 100 columns]\n"
     ]
    }
   ],
   "source": [
    "# Using tokenized words to make features and make into a dataframe\n",
    "\n",
    "feature_names = count_vectorizer.get_feature_names()\n",
    "df_countvec = pd.DataFrame(df1.toarray(), columns=feature_names)\n",
    "\n",
    "print(df_countvec)"
   ]
  },
  {
   "cell_type": "code",
   "execution_count": 16,
   "metadata": {},
   "outputs": [],
   "source": [
    "#Merge the dataframe with words as features into the original dataframe.\n",
    "\n",
    "df_merge = df.merge(df_countvec, left_index=True, right_index= True)"
   ]
  },
  {
   "cell_type": "code",
   "execution_count": 17,
   "metadata": {},
   "outputs": [
    {
     "data": {
      "text/plain": [
       "(11146, 107)"
      ]
     },
     "execution_count": 17,
     "metadata": {},
     "output_type": "execute_result"
    }
   ],
   "source": [
    "# Check if the columns add up. We added 100 new features to the original 7 features. \n",
    "\n",
    "df_merge.shape"
   ]
  },
  {
   "cell_type": "code",
   "execution_count": 18,
   "metadata": {},
   "outputs": [
    {
     "data": {
      "text/plain": [
       "array(['male', 'female', 'brand', 'unknown'], dtype=object)"
      ]
     },
     "execution_count": 18,
     "metadata": {},
     "output_type": "execute_result"
    }
   ],
   "source": [
    "#check what types of labels there are in gender\n",
    "\n",
    "df_merge.gender.unique()"
   ]
  },
  {
   "cell_type": "code",
   "execution_count": 19,
   "metadata": {},
   "outputs": [],
   "source": [
    "#remove unwanted labels in dependent variable\n",
    "\n",
    "df_merge = df_merge[df_merge.gender != 'unknown']\n",
    "df_merge = df_merge[df_merge.gender != 'brand']"
   ]
  },
  {
   "cell_type": "code",
   "execution_count": 20,
   "metadata": {},
   "outputs": [
    {
     "data": {
      "text/plain": [
       "gender           0\n",
       "fav_number       0\n",
       "retweet_count    0\n",
       "sidebar_color    0\n",
       "tweet_count      0\n",
       "                ..\n",
       "win              0\n",
       "work             0\n",
       "world            0\n",
       "year             0\n",
       "youtube          0\n",
       "Length: 107, dtype: int64"
      ]
     },
     "execution_count": 20,
     "metadata": {},
     "output_type": "execute_result"
    }
   ],
   "source": [
    "#check for null numbers\n",
    "\n",
    "df_merge.isnull().sum()"
   ]
  },
  {
   "cell_type": "code",
   "execution_count": 21,
   "metadata": {},
   "outputs": [
    {
     "data": {
      "text/plain": [
       "array(['male', 'female'], dtype=object)"
      ]
     },
     "execution_count": 21,
     "metadata": {},
     "output_type": "execute_result"
    }
   ],
   "source": [
    "# Now we only have male and female as our classifications\n",
    "\n",
    "df_merge.gender.unique()"
   ]
  },
  {
   "cell_type": "code",
   "execution_count": 22,
   "metadata": {},
   "outputs": [],
   "source": [
    "# chage gender of male and female to 1 and 0\n",
    "\n",
    "df_merge.gender = df_merge.gender.replace({'male': 1, 'female': 0})"
   ]
  },
  {
   "cell_type": "code",
   "execution_count": 23,
   "metadata": {},
   "outputs": [],
   "source": [
    "#convert hexadecimal color to string. \n",
    "\n",
    "df_merge['sidebar_color'] = df_merge.sidebar_color.str[0]"
   ]
  },
  {
   "cell_type": "code",
   "execution_count": 24,
   "metadata": {},
   "outputs": [
    {
     "data": {
      "text/plain": [
       "<matplotlib.axes._subplots.AxesSubplot at 0x1c1a7fcd50>"
      ]
     },
     "execution_count": 24,
     "metadata": {},
     "output_type": "execute_result"
    },
    {
     "data": {
      "image/png": "[encoded data removed]",
      "text/plain": [
       "<Figure size 432x288 with 1 Axes>"
      ]
     },
     "metadata": {
      "needs_background": "light"
     },
     "output_type": "display_data"
    }
   ],
   "source": [
    "#check if data is balanced. Looks like its a pretty even split between male and female. \n",
    "\n",
    "sns.countplot(x='gender', data= df_merge)"
   ]
  },
  {
   "cell_type": "code",
   "execution_count": 25,
   "metadata": {},
   "outputs": [],
   "source": [
    "#set dummy variables\n",
    "\n",
    "dummies = pd.get_dummies(df_merge[['sidebar_color']], drop_first=True)\n",
    "\n",
    "df_merge = pd.concat([df_merge.drop(['sidebar_color'], axis=1), dummies], axis = 1)"
   ]
  },
  {
   "cell_type": "code",
   "execution_count": 26,
   "metadata": {},
   "outputs": [],
   "source": [
    "# df_merge.corr()\n",
    "# plt.figure(figsize=(10,7))\n",
    "# sns.heatmap(df_merge.corr(), annot=True, cmap='viridis')\n",
    "# sns.distplot(df_merge['gender'], kde=False, bins= 40)"
   ]
  },
  {
   "cell_type": "code",
   "execution_count": 27,
   "metadata": {},
   "outputs": [],
   "source": [
    "#Set X and Y for training and testing. We don't need the text columns since we made words from text into features\n",
    "\n",
    "X = df_merge.drop(['gender', 'clean_des','clean_text'], axis=1).values\n",
    "y = df_merge['gender'].values"
   ]
  },
  {
   "cell_type": "code",
   "execution_count": 28,
   "metadata": {},
   "outputs": [],
   "source": [
    "#Train, test, split data. \n",
    "\n",
    "X_train, X_test, y_train, y_test = train_test_split(X, y, test_size=0.2, random_state = 42)"
   ]
  },
  {
   "cell_type": "code",
   "execution_count": 29,
   "metadata": {},
   "outputs": [],
   "source": [
    "# Scale the features to make it easier to work with\n",
    "\n",
    "mm_scaler = MinMaxScaler()\n",
    "mm_scaler.fit(X_train)\n",
    "X_train = mm_scaler.transform(X_train)\n",
    "X_test = mm_scaler.transform(X_test)"
   ]
  },
  {
   "cell_type": "markdown",
   "metadata": {},
   "source": [
    "## Decision Tree ##"
   ]
  },
  {
   "cell_type": "code",
   "execution_count": 30,
   "metadata": {},
   "outputs": [
    {
     "name": "stdout",
     "output_type": "stream",
     "text": [
      "0.5816195372750642\n"
     ]
    },
    {
     "data": {
      "image/png": "[encoded data removed]",
      "text/plain": [
       "<Figure size 432x288 with 1 Axes>"
      ]
     },
     "metadata": {
      "needs_background": "light"
     },
     "output_type": "display_data"
    }
   ],
   "source": [
    "# Decision Tree model. Check which max depth is the best by using a loop that checks 1-30 depth\n",
    "\n",
    "scores = []\n",
    "for i in range(1, 30):\n",
    "    tree = DecisionTreeClassifier(max_depth = i)\n",
    "    tree.fit(X_train, y_train)\n",
    "    scores.append(tree.score(X_test, y_test))\n",
    "plt.plot(range(1,30), scores)\n",
    "print(max(scores))"
   ]
  },
  {
   "cell_type": "code",
   "execution_count": 31,
   "metadata": {},
   "outputs": [
    {
     "data": {
      "image/png": "[encoded data removed]",
      "text/plain": [
       "<Figure size 432x288 with 1 Axes>"
      ]
     },
     "metadata": {
      "needs_background": "light"
     },
     "output_type": "display_data"
    }
   ],
   "source": [
    "# We can compare the AUC score for our training and test data. It shows that the training will overfit and can't \n",
    "# generalize the data. \n",
    "# took function from: https://medium.com/all-things-ai/in-depth-parameter-tuning-for-random-forest-d67bb7e920d\n",
    "\n",
    "\n",
    "max_depths = np.linspace(1, 32, 32, endpoint=True)\n",
    "train_results = []\n",
    "test_results = []\n",
    "for max_depth in max_depths:\n",
    "    tree = DecisionTreeClassifier(max_depth=max_depth)\n",
    "    tree.fit(X_train, y_train)\n",
    "    train_pred = tree.predict(X_train)\n",
    "    false_positive_rate, true_positive_rate, thresholds = roc_curve(y_train, train_pred)\n",
    "    roc_auc = auc(false_positive_rate, true_positive_rate)\n",
    "    train_results.append(roc_auc)\n",
    "    y_pred = tree.predict(X_test)\n",
    "    false_positive_rate, true_positive_rate, thresholds = roc_curve(y_test, y_pred)\n",
    "    roc_auc = auc(false_positive_rate, true_positive_rate)\n",
    "    test_results.append(roc_auc)\n",
    "from matplotlib.legend_handler import HandlerLine2D\n",
    "line1, = plt.plot(max_depths, train_results, 'b', label= 'Train AUC')\n",
    "line2, = plt.plot(max_depths, test_results, 'r', label= 'Test AUC')\n",
    "plt.legend(handler_map={line1: HandlerLine2D(numpoints=2)})\n",
    "plt.ylabel('AUC score')\n",
    "plt.xlabel('Tree depth')\n",
    "plt.show()"
   ]
  },
  {
   "cell_type": "code",
   "execution_count": 32,
   "metadata": {},
   "outputs": [
    {
     "name": "stdout",
     "output_type": "stream",
     "text": [
      "The score for Decision Tree Classifier is\n",
      "Training:  58.73%\n",
      "Test set:  58.16%\n",
      "Default threshold:\n",
      "Precision: 0.6055,   Recall: 0.5226\n",
      "The F1 score is: 0.5610\n"
     ]
    }
   ],
   "source": [
    "# looks like max depth of 3 gave us the best predictive power in the training data. We will use max depth 3 to run test cases\n",
    "\n",
    "tree = DecisionTreeClassifier(max_depth=3)\n",
    "tree.fit(X_train, y_train)\n",
    "tree.score(X_test, y_test)\n",
    "print(\"The score for Decision Tree Classifier is\")\n",
    "print(\"Training: {:6.2f}%\".format(100*tree.score(X_train, y_train)))\n",
    "print(\"Test set: {:6.2f}%\".format(100*tree.score(X_test, y_test)))\n",
    "\n",
    "y_predict = tree.predict(X_test)\n",
    "print(\"Default threshold:\")\n",
    "print(\"Precision: {:6.4f},   Recall: {:6.4f}\".format(precision_score(y_test, y_predict), \n",
    "                                                     recall_score(y_test, y_predict)))\n",
    "print(\"The F1 score is: {:6.4f}\".format(f1_score(y_test, y_predict)))"
   ]
  },
  {
   "cell_type": "code",
   "execution_count": 33,
   "metadata": {},
   "outputs": [],
   "source": [
    "fpr, tpr, thresholds = roc_curve(y_test, tree.predict_proba(X_test)[:,1])"
   ]
  },
  {
   "cell_type": "code",
   "execution_count": 34,
   "metadata": {},
   "outputs": [
    {
     "name": "stdout",
     "output_type": "stream",
     "text": [
      "ROC AUC score =  0.5933929516001057\n"
     ]
    },
    {
     "data": {
      "image/png": "[encoded data removed]",
      "text/plain": [
       "<Figure size 432x288 with 1 Axes>"
      ]
     },
     "metadata": {
      "needs_background": "light"
     },
     "output_type": "display_data"
    }
   ],
   "source": [
    "# Plot the ROC curve to see how the model is doing. \n",
    "\n",
    "plt.plot(fpr, tpr,lw=2)\n",
    "plt.plot([0,1],[0,1],c='violet',ls='--')\n",
    "plt.xlim([-0.05,1.05])\n",
    "plt.ylim([-0.05,1.05])\n",
    "\n",
    "\n",
    "plt.xlabel('False positive rate')\n",
    "plt.ylabel('True positive rate')\n",
    "plt.title('ROC curve for gender prediction');\n",
    "print(\"ROC AUC score = \", roc_auc_score(y_test, tree.predict_proba(X_test)[:,1]))"
   ]
  },
  {
   "cell_type": "markdown",
   "metadata": {},
   "source": [
    "## Random Forest"
   ]
  },
  {
   "cell_type": "code",
   "execution_count": 35,
   "metadata": {},
   "outputs": [
    {
     "name": "stderr",
     "output_type": "stream",
     "text": [
      "/opt/anaconda3/lib/python3.7/site-packages/sklearn/ensemble/forest.py:245: FutureWarning: The default value of n_estimators will change from 10 in version 0.20 to 100 in 0.22.\n",
      "  \"10 in version 0.20 to 100 in 0.22.\", FutureWarning)\n",
      "/opt/anaconda3/lib/python3.7/site-packages/sklearn/ensemble/forest.py:245: FutureWarning: The default value of n_estimators will change from 10 in version 0.20 to 100 in 0.22.\n",
      "  \"10 in version 0.20 to 100 in 0.22.\", FutureWarning)\n",
      "/opt/anaconda3/lib/python3.7/site-packages/sklearn/ensemble/forest.py:245: FutureWarning: The default value of n_estimators will change from 10 in version 0.20 to 100 in 0.22.\n",
      "  \"10 in version 0.20 to 100 in 0.22.\", FutureWarning)\n",
      "/opt/anaconda3/lib/python3.7/site-packages/sklearn/ensemble/forest.py:245: FutureWarning: The default value of n_estimators will change from 10 in version 0.20 to 100 in 0.22.\n",
      "  \"10 in version 0.20 to 100 in 0.22.\", FutureWarning)\n",
      "/opt/anaconda3/lib/python3.7/site-packages/sklearn/ensemble/forest.py:245: FutureWarning: The default value of n_estimators will change from 10 in version 0.20 to 100 in 0.22.\n",
      "  \"10 in version 0.20 to 100 in 0.22.\", FutureWarning)\n",
      "/opt/anaconda3/lib/python3.7/site-packages/sklearn/ensemble/forest.py:245: FutureWarning: The default value of n_estimators will change from 10 in version 0.20 to 100 in 0.22.\n",
      "  \"10 in version 0.20 to 100 in 0.22.\", FutureWarning)\n",
      "/opt/anaconda3/lib/python3.7/site-packages/sklearn/ensemble/forest.py:245: FutureWarning: The default value of n_estimators will change from 10 in version 0.20 to 100 in 0.22.\n",
      "  \"10 in version 0.20 to 100 in 0.22.\", FutureWarning)\n",
      "/opt/anaconda3/lib/python3.7/site-packages/sklearn/ensemble/forest.py:245: FutureWarning: The default value of n_estimators will change from 10 in version 0.20 to 100 in 0.22.\n",
      "  \"10 in version 0.20 to 100 in 0.22.\", FutureWarning)\n",
      "/opt/anaconda3/lib/python3.7/site-packages/sklearn/ensemble/forest.py:245: FutureWarning: The default value of n_estimators will change from 10 in version 0.20 to 100 in 0.22.\n",
      "  \"10 in version 0.20 to 100 in 0.22.\", FutureWarning)\n"
     ]
    },
    {
     "name": "stdout",
     "output_type": "stream",
     "text": [
      "0.5886889460154242\n"
     ]
    },
    {
     "data": {
      "image/png": "[encoded data removed]",
      "text/plain": [
       "<Figure size 432x288 with 1 Axes>"
      ]
     },
     "metadata": {
      "needs_background": "light"
     },
     "output_type": "display_data"
    }
   ],
   "source": [
    "#Determine what depth to use for Random Forest\n",
    "\n",
    "scores = []\n",
    "for i in range(1, 10):\n",
    "    rf = RandomForestClassifier(max_depth = i)\n",
    "    rf.fit(X_train, y_train)\n",
    "    scores.append(rf.score(X_test, y_test))\n",
    "plt.plot(range(1,10), scores)\n",
    "print(max(scores))"
   ]
  },
  {
   "cell_type": "code",
   "execution_count": 36,
   "metadata": {},
   "outputs": [
    {
     "name": "stdout",
     "output_type": "stream",
     "text": [
      "The score for Decision Tree Classifier is\n",
      "Training:  59.84%\n",
      "Test set:  55.53%\n",
      "Default threshold:\n",
      "Precision: 0.5844,   Recall: 0.4523\n",
      "The F1 score is: 0.5099\n"
     ]
    },
    {
     "name": "stderr",
     "output_type": "stream",
     "text": [
      "/opt/anaconda3/lib/python3.7/site-packages/sklearn/ensemble/forest.py:245: FutureWarning: The default value of n_estimators will change from 10 in version 0.20 to 100 in 0.22.\n",
      "  \"10 in version 0.20 to 100 in 0.22.\", FutureWarning)\n"
     ]
    }
   ],
   "source": [
    "# Looks like max depth of 2 might be the best. \n",
    "\n",
    "rf = RandomForestClassifier(max_depth = 3)\n",
    "rf.fit(X_train, y_train)\n",
    "rf.score(X_test, y_test)\n",
    "print(\"The score for Decision Tree Classifier is\")\n",
    "print(\"Training: {:6.2f}%\".format(100*rf.score(X_train, y_train)))\n",
    "print(\"Test set: {:6.2f}%\".format(100*rf.score(X_test, y_test)))\n",
    "\n",
    "y_predict = rf.predict(X_test)\n",
    "print(\"Default threshold:\")\n",
    "print(\"Precision: {:6.4f},   Recall: {:6.4f}\".format(precision_score(y_test, y_predict), \n",
    "                                                     recall_score(y_test, y_predict)))\n",
    "print(\"The F1 score is: {:6.4f}\".format(f1_score(y_test, y_predict)))"
   ]
  },
  {
   "cell_type": "code",
   "execution_count": 37,
   "metadata": {},
   "outputs": [],
   "source": [
    "fpr, tpr, thresholds = roc_curve(y_test, rf.predict_proba(X_test)[:,1])"
   ]
  },
  {
   "cell_type": "code",
   "execution_count": 38,
   "metadata": {},
   "outputs": [
    {
     "name": "stdout",
     "output_type": "stream",
     "text": [
      "ROC AUC score =  0.5934607246760116\n"
     ]
    },
    {
     "data": {
      "image/png": "[encoded data removed]",
      "text/plain": [
       "<Figure size 432x288 with 1 Axes>"
      ]
     },
     "metadata": {
      "needs_background": "light"
     },
     "output_type": "display_data"
    }
   ],
   "source": [
    "#Plot ROC curve\n",
    "\n",
    "plt.plot(fpr, tpr,lw=2)\n",
    "plt.plot([0,1],[0,1],c='violet',ls='--')\n",
    "plt.xlim([-0.05,1.05])\n",
    "plt.ylim([-0.05,1.05])\n",
    "\n",
    "\n",
    "plt.xlabel('False positive rate')\n",
    "plt.ylabel('True positive rate')\n",
    "plt.title('ROC curve for gender prediction');\n",
    "print(\"ROC AUC score = \", roc_auc_score(y_test, rf.predict_proba(X_test)[:,1]))"
   ]
  },
  {
   "cell_type": "markdown",
   "metadata": {},
   "source": [
    "## KNN ##"
   ]
  },
  {
   "cell_type": "code",
   "execution_count": 39,
   "metadata": {},
   "outputs": [
    {
     "data": {
      "text/plain": [
       "[<matplotlib.lines.Line2D at 0x1c1a9472d0>]"
      ]
     },
     "execution_count": 39,
     "metadata": {},
     "output_type": "execute_result"
    },
    {
     "data": {
      "image/png": "[encoded data removed]",
      "text/plain": [
       "<Figure size 432x288 with 1 Axes>"
      ]
     },
     "metadata": {
      "needs_background": "light"
     },
     "output_type": "display_data"
    }
   ],
   "source": [
    "#KNN model. check for the best number of neighbors from 1-7. \n",
    "\n",
    "neighbors = []\n",
    "for k in range(1, 7):\n",
    "    knn = KNeighborsClassifier(n_neighbors = k)\n",
    "    knn.fit(X_train, y_train)\n",
    "    neighbors.append(knn.score(X_test, y_test))\n",
    "    \n",
    "knn_list = list(range(1, 7))\n",
    "plt.plot(knn_list, neighbors)"
   ]
  },
  {
   "cell_type": "code",
   "execution_count": 40,
   "metadata": {},
   "outputs": [
    {
     "name": "stdout",
     "output_type": "stream",
     "text": [
      "The score for KNN is:\n",
      "Training:  76.86%\n",
      "Test set:  54.69%\n",
      "Default threshold:\n",
      "Precision: 0.6176,   Recall: 0.3003\n",
      "The F1 score is: 0.4041\n"
     ]
    }
   ],
   "source": [
    "#Looks like K=2 is the best. \n",
    "\n",
    "knn = KNeighborsClassifier(n_neighbors = 2)\n",
    "knn.fit(X_train, y_train)\n",
    "knn.score(X_test, y_test)\n",
    "\n",
    "print(\"The score for KNN is:\")\n",
    "print(\"Training: {:6.2f}%\".format(100*knn.score(X_train, y_train)))\n",
    "print(\"Test set: {:6.2f}%\".format(100*knn.score(X_test, y_test)))\n",
    "\n",
    "y_predict = knn.predict(X_test)\n",
    "print(\"Default threshold:\")\n",
    "print(\"Precision: {:6.4f},   Recall: {:6.4f}\".format(precision_score(y_test, y_predict), \n",
    "                                                     recall_score(y_test, y_predict)))\n",
    "print(\"The F1 score is: {:6.4f}\".format(f1_score(y_test, y_predict)))"
   ]
  },
  {
   "cell_type": "code",
   "execution_count": 41,
   "metadata": {},
   "outputs": [],
   "source": [
    "fpr, tpr, thresholds = roc_curve(y_test, knn.predict_proba(X_test)[:,1])"
   ]
  },
  {
   "cell_type": "code",
   "execution_count": 42,
   "metadata": {},
   "outputs": [
    {
     "name": "stdout",
     "output_type": "stream",
     "text": [
      "ROC AUC score =  0.550616569690558\n"
     ]
    },
    {
     "data": {
      "image/png": "[encoded data removed]",
      "text/plain": [
       "<Figure size 432x288 with 1 Axes>"
      ]
     },
     "metadata": {
      "needs_background": "light"
     },
     "output_type": "display_data"
    }
   ],
   "source": [
    "#Plot ROC curve\n",
    "\n",
    "plt.plot(fpr, tpr,lw=2)\n",
    "plt.plot([0,1],[0,1],c='violet',ls='--')\n",
    "plt.xlim([-0.05,1.05])\n",
    "plt.ylim([-0.05,1.05])\n",
    "\n",
    "\n",
    "plt.xlabel('False positive rate')\n",
    "plt.ylabel('True positive rate')\n",
    "plt.title('ROC curve for gender prediction');\n",
    "print(\"ROC AUC score = \", roc_auc_score(y_test, knn.predict_proba(X_test)[:,1]))"
   ]
  },
  {
   "cell_type": "code",
   "execution_count": null,
   "metadata": {},
   "outputs": [],
   "source": []
  },
  {
   "cell_type": "markdown",
   "metadata": {},
   "source": [
    "## SVM"
   ]
  },
  {
   "cell_type": "code",
   "execution_count": 43,
   "metadata": {},
   "outputs": [],
   "source": [
    "# scores = []\n",
    "# for i in (np.linspace(0.01,1,10)):\n",
    "#     classifier = SVC(kernel = 'linear', C = i)\n",
    "#     classifier.fit(X_train,y_train) \n",
    "#     scores.append(classifier.score(X_test,y_test)) \n",
    "# plt.plot(np.linspace(0.01,1,10),scores) "
   ]
  },
  {
   "cell_type": "markdown",
   "metadata": {},
   "source": [
    "The cells below will run, but it will take a long time. So I commented them out."
   ]
  },
  {
   "cell_type": "code",
   "execution_count": 44,
   "metadata": {},
   "outputs": [],
   "source": [
    "# scores=[]\n",
    "# for i in (np.linspace(0.01,1,10)):\n",
    "#     classifier = SVC(kernel = 'rbf', gamma=i, C = i)\n",
    "#     classifier.fit(X_train,y_train) \n",
    "#     scores.append(classifier.score(X_test,y_test)) \n",
    "# plt.plot(np.linspace(0.01,1,10),scores)"
   ]
  },
  {
   "cell_type": "code",
   "execution_count": 45,
   "metadata": {},
   "outputs": [],
   "source": [
    "# classifier = SVC(kernel = 'linear', gamma=0.6, C = 0.6, probability=True)\n",
    "# classifier.fit(X_train,y_train) \n",
    "# classifier.score(X_test,y_test)\n",
    "\n",
    "# print(\"The score for SVC is:\")\n",
    "# print(\"Training: {:6.2f}%\".format(100*classifier.score(X_train, y_train)))\n",
    "# print(\"Test set: {:6.2f}%\".format(100*classifier.score(X_test, y_test)))\n",
    "\n",
    "# y_predict = classifier.predict(X_test)\n",
    "# print(\"Default threshold:\")\n",
    "# print(\"Precision: {:6.4f},   Recall: {:6.4f}\".format(precision_score(y_test, y_predict), \n",
    "#                                                      recall_score(y_test, y_predict)))\n",
    "# print(\"The F1 score is: {:6.4f}\".format(f1_score(y_test, y_predict)))\n"
   ]
  },
  {
   "cell_type": "code",
   "execution_count": 46,
   "metadata": {},
   "outputs": [],
   "source": [
    "# roc_auc_score(y_test, classifier.predict_proba(X_test)[:,1])"
   ]
  },
  {
   "cell_type": "code",
   "execution_count": 47,
   "metadata": {},
   "outputs": [],
   "source": [
    "# fpr, tpr, thresholds = roc_curve(y_test, classifier.predict_proba(X_test)[:,1])\n",
    "# plt.plot(fpr, tpr,lw=2)\n",
    "# plt.plot([0,1],[0,1],c='violet',ls='--')\n",
    "# plt.xlim([-0.05,1.05])\n",
    "# plt.ylim([-0.05,1.05])\n",
    "\n",
    "\n",
    "# plt.xlabel('False positive rate')\n",
    "# plt.ylabel('True positive rate')\n",
    "# plt.title('ROC curve for gender prediction');\n",
    "# print(\"ROC AUC score = \", roc_auc_score(y_test, classifier.predict_proba(X_test)[:,1]))"
   ]
  },
  {
   "cell_type": "markdown",
   "metadata": {},
   "source": [
    "## Logistic Regression"
   ]
  },
  {
   "cell_type": "code",
   "execution_count": 48,
   "metadata": {},
   "outputs": [
    {
     "name": "stdout",
     "output_type": "stream",
     "text": [
      "The score for logistic regression is\n",
      "Training:  59.86%\n",
      "Test set:  55.33%\n",
      "Default threshold:\n",
      "Precision: 0.5881,   Recall: 0.4234\n",
      "The F1 score is: 0.4923\n"
     ]
    },
    {
     "name": "stderr",
     "output_type": "stream",
     "text": [
      "/opt/anaconda3/lib/python3.7/site-packages/sklearn/linear_model/logistic.py:432: FutureWarning: Default solver will be changed to 'lbfgs' in 0.22. Specify a solver to silence this warning.\n",
      "  FutureWarning)\n"
     ]
    }
   ],
   "source": [
    "logit = LogisticRegression(C = 0.1)\n",
    "logit.fit(X_train, y_train)\n",
    "print(\"The score for logistic regression is\")\n",
    "print(\"Training: {:6.2f}%\".format(100*logit.score(X_train, y_train)))\n",
    "print(\"Test set: {:6.2f}%\".format(100*logit.score(X_test, y_test)))\n",
    "\n",
    "y_predict = logit.predict(X_test)\n",
    "print(\"Default threshold:\")\n",
    "print(\"Precision: {:6.4f},   Recall: {:6.4f}\".format(precision_score(y_test, y_predict), \n",
    "                                                     recall_score(y_test, y_predict)))\n",
    "print(\"The F1 score is: {:6.4f}\".format(f1_score(y_test, y_predict)))"
   ]
  },
  {
   "cell_type": "code",
   "execution_count": 49,
   "metadata": {},
   "outputs": [],
   "source": [
    "fpr, tpr, thresholds = roc_curve(y_test, logit.predict_proba(X_test)[:,1])"
   ]
  },
  {
   "cell_type": "code",
   "execution_count": 50,
   "metadata": {},
   "outputs": [
    {
     "name": "stdout",
     "output_type": "stream",
     "text": [
      "ROC AUC score =  0.597178325839725\n"
     ]
    },
    {
     "data": {
      "image/png": "[encoded data removed]",
      "text/plain": [
       "<Figure size 432x288 with 1 Axes>"
      ]
     },
     "metadata": {
      "needs_background": "light"
     },
     "output_type": "display_data"
    }
   ],
   "source": [
    "\n",
    "plt.plot(fpr, tpr,lw=2)\n",
    "plt.plot([0,1],[0,1],c='violet',ls='--')\n",
    "plt.xlim([-0.05,1.05])\n",
    "plt.ylim([-0.05,1.05])\n",
    "\n",
    "\n",
    "plt.xlabel('False positive rate')\n",
    "plt.ylabel('True positive rate')\n",
    "plt.title('ROC curve for gender prediction');\n",
    "print(\"ROC AUC score = \", roc_auc_score(y_test, logit.predict_proba(X_test)[:,1]))"
   ]
  },
  {
   "cell_type": "code",
   "execution_count": null,
   "metadata": {},
   "outputs": [],
   "source": []
  },
  {
   "cell_type": "markdown",
   "metadata": {},
   "source": [
    "## Multinominal Naieve Bayes"
   ]
  },
  {
   "cell_type": "code",
   "execution_count": 51,
   "metadata": {},
   "outputs": [
    {
     "name": "stdout",
     "output_type": "stream",
     "text": [
      "The score for Naive  is\n",
      "Training:  59.76%\n",
      "Test set:  55.40%\n",
      "Default threshold:\n",
      "Precision: 0.5828,   Recall: 0.4510\n",
      "The F1 score is: 0.5085\n"
     ]
    }
   ],
   "source": [
    "nb = MultinomialNB()\n",
    "nb.fit(X_train, y_train)\n",
    "nb.score(X_test, y_test)\n",
    "\n",
    "print(\"The score for Naive  is\")\n",
    "print(\"Training: {:6.2f}%\".format(100*nb.score(X_train, y_train)))\n",
    "print(\"Test set: {:6.2f}%\".format(100*nb.score(X_test, y_test)))\n",
    "\n",
    "y_predict = nb.predict(X_test)\n",
    "print(\"Default threshold:\")\n",
    "print(\"Precision: {:6.4f},   Recall: {:6.4f}\".format(precision_score(y_test, y_predict), \n",
    "                                                     recall_score(y_test, y_predict)))\n",
    "print(\"The F1 score is: {:6.4f}\".format(f1_score(y_test, y_predict)))"
   ]
  },
  {
   "cell_type": "code",
   "execution_count": 52,
   "metadata": {},
   "outputs": [],
   "source": [
    "fpr, tpr, thresholds = roc_curve(y_test, nb.predict_proba(X_test)[:,1])"
   ]
  },
  {
   "cell_type": "code",
   "execution_count": 53,
   "metadata": {},
   "outputs": [
    {
     "name": "stdout",
     "output_type": "stream",
     "text": [
      "ROC AUC score =  0.5960972626289343\n"
     ]
    },
    {
     "data": {
      "image/png": "[encoded data removed]",
      "text/plain": [
       "<Figure size 432x288 with 1 Axes>"
      ]
     },
     "metadata": {
      "needs_background": "light"
     },
     "output_type": "display_data"
    }
   ],
   "source": [
    "plt.plot(fpr, tpr,lw=2)\n",
    "plt.plot([0,1],[0,1],c='violet',ls='--')\n",
    "plt.xlim([-0.05,1.05])\n",
    "plt.ylim([-0.05,1.05])\n",
    "\n",
    "\n",
    "plt.xlabel('False positive rate')\n",
    "plt.ylabel('True positive rate')\n",
    "plt.title('ROC curve for gender prediction');\n",
    "print(\"ROC AUC score = \", roc_auc_score(y_test, nb.predict_proba(X_test)[:,1]))"
   ]
  },
  {
   "cell_type": "markdown",
   "metadata": {},
   "source": [
    "## Gaussian Naive Bayes"
   ]
  },
  {
   "cell_type": "code",
   "execution_count": 54,
   "metadata": {},
   "outputs": [
    {
     "name": "stdout",
     "output_type": "stream",
     "text": [
      "The score for Gaussian Naive Bayes is\n",
      "Training:  57.83%\n",
      "Test set:  55.78%\n",
      "Default threshold:\n",
      "Precision: 0.5582,   Recall: 0.6508\n",
      "The F1 score is: 0.6009\n"
     ]
    }
   ],
   "source": [
    "\n",
    "nb_g = GaussianNB()\n",
    "nb_g.fit(X_train, y_train)\n",
    "nb_g.score(X_test, y_test)\n",
    "\n",
    "print(\"The score for Gaussian Naive Bayes is\")\n",
    "print(\"Training: {:6.2f}%\".format(100*nb_g.score(X_train, y_train)))\n",
    "print(\"Test set: {:6.2f}%\".format(100*nb_g.score(X_test, y_test)))\n",
    "\n",
    "y_predict = nb_g.predict(X_test)\n",
    "print(\"Default threshold:\")\n",
    "print(\"Precision: {:6.4f},   Recall: {:6.4f}\".format(precision_score(y_test, y_predict), \n",
    "                                                     recall_score(y_test, y_predict)))\n",
    "print(\"The F1 score is: {:6.4f}\".format(f1_score(y_test, y_predict)))"
   ]
  },
  {
   "cell_type": "code",
   "execution_count": 55,
   "metadata": {},
   "outputs": [],
   "source": [
    "fpr, tpr, thresholds = roc_curve(y_test, nb_g.predict_proba(X_test)[:,1])"
   ]
  },
  {
   "cell_type": "code",
   "execution_count": 56,
   "metadata": {},
   "outputs": [
    {
     "name": "stdout",
     "output_type": "stream",
     "text": [
      "ROC AUC score =  0.5800226461253637\n"
     ]
    },
    {
     "data": {
      "image/png": "[encoded data removed]",
      "text/plain": [
       "<Figure size 432x288 with 1 Axes>"
      ]
     },
     "metadata": {
      "needs_background": "light"
     },
     "output_type": "display_data"
    }
   ],
   "source": [
    "plt.plot(fpr, tpr,lw=2)\n",
    "plt.plot([0,1],[0,1],c='violet',ls='--')\n",
    "plt.xlim([-0.05,1.05])\n",
    "plt.ylim([-0.05,1.05])\n",
    "\n",
    "\n",
    "plt.xlabel('False positive rate')\n",
    "plt.ylabel('True positive rate')\n",
    "plt.title('ROC curve for gender prediction');\n",
    "print(\"ROC AUC score = \", roc_auc_score(y_test, nb_g.predict_proba(X_test)[:,1]))"
   ]
  },
  {
   "cell_type": "markdown",
   "metadata": {},
   "source": [
    "## Bernoulli Naive Bayes"
   ]
  },
  {
   "cell_type": "code",
   "execution_count": 57,
   "metadata": {},
   "outputs": [
    {
     "name": "stdout",
     "output_type": "stream",
     "text": [
      "The score for Gaussian Naive Bayes is\n",
      "Training:  59.37%\n",
      "Test set:  56.81%\n",
      "Default threshold:\n",
      "Precision: 0.5831,   Recall: 0.5465\n",
      "The F1 score is: 0.5642\n"
     ]
    }
   ],
   "source": [
    "nb_b = BernoulliNB()\n",
    "nb_b.fit(X_train,y_train)\n",
    "nb_b.score(X_test,y_test)\n",
    "\n",
    "print(\"The score for Gaussian Naive Bayes is\")\n",
    "print(\"Training: {:6.2f}%\".format(100*nb_b.score(X_train, y_train)))\n",
    "print(\"Test set: {:6.2f}%\".format(100*nb_b.score(X_test, y_test)))\n",
    "\n",
    "y_predict = nb_b.predict(X_test)\n",
    "print(\"Default threshold:\")\n",
    "print(\"Precision: {:6.4f},   Recall: {:6.4f}\".format(precision_score(y_test, y_predict), \n",
    "                                                     recall_score(y_test, y_predict)))\n",
    "print(\"The F1 score is: {:6.4f}\".format(f1_score(y_test, y_predict)))"
   ]
  },
  {
   "cell_type": "code",
   "execution_count": 58,
   "metadata": {},
   "outputs": [],
   "source": [
    "fpr, tpr, thresholds = roc_curve(y_test, nb_g.predict_proba(X_test)[:,1])"
   ]
  },
  {
   "cell_type": "code",
   "execution_count": 59,
   "metadata": {},
   "outputs": [
    {
     "name": "stdout",
     "output_type": "stream",
     "text": [
      "ROC AUC score =  0.5800226461253637\n"
     ]
    },
    {
     "data": {
      "image/png": "[encoded data removed]",
      "text/plain": [
       "<Figure size 432x288 with 1 Axes>"
      ]
     },
     "metadata": {
      "needs_background": "light"
     },
     "output_type": "display_data"
    }
   ],
   "source": [
    "plt.plot(fpr, tpr,lw=2)\n",
    "plt.plot([0,1],[0,1],c='violet',ls='--')\n",
    "plt.xlim([-0.05,1.05])\n",
    "plt.ylim([-0.05,1.05])\n",
    "\n",
    "\n",
    "plt.xlabel('False positive rate')\n",
    "plt.ylabel('True positive rate')\n",
    "plt.title('ROC curve for gender prediction');\n",
    "print(\"ROC AUC score = \", roc_auc_score(y_test, nb_g.predict_proba(X_test)[:,1]))"
   ]
  },
  {
   "cell_type": "code",
   "execution_count": null,
   "metadata": {},
   "outputs": [],
   "source": []
  },
  {
   "cell_type": "markdown",
   "metadata": {},
   "source": [
    "Search for best paramaters and CV"
   ]
  },
  {
   "cell_type": "code",
   "execution_count": 60,
   "metadata": {},
   "outputs": [
    {
     "name": "stdout",
     "output_type": "stream",
     "text": [
      "Fitting 5 folds for each of 3 candidates, totalling 15 fits\n"
     ]
    },
    {
     "name": "stderr",
     "output_type": "stream",
     "text": [
      "[Parallel(n_jobs=-1)]: Using backend LokyBackend with 8 concurrent workers.\n",
      "[Parallel(n_jobs=-1)]: Done  15 out of  15 | elapsed:   18.1s finished\n",
      "[Parallel(n_jobs=-1)]: Using backend LokyBackend with 8 concurrent workers.\n"
     ]
    },
    {
     "name": "stdout",
     "output_type": "stream",
     "text": [
      "Fitting 5 folds for each of 7 candidates, totalling 35 fits\n"
     ]
    },
    {
     "name": "stderr",
     "output_type": "stream",
     "text": [
      "[Parallel(n_jobs=-1)]: Done  35 out of  35 | elapsed:    6.4s finished\n",
      "[Parallel(n_jobs=-1)]: Using backend LokyBackend with 8 concurrent workers.\n"
     ]
    },
    {
     "name": "stdout",
     "output_type": "stream",
     "text": [
      "Fitting 5 folds for each of 3 candidates, totalling 15 fits\n"
     ]
    },
    {
     "name": "stderr",
     "output_type": "stream",
     "text": [
      "[Parallel(n_jobs=-1)]: Done  15 out of  15 | elapsed:    0.2s finished\n",
      "[Parallel(n_jobs=-1)]: Using backend LokyBackend with 8 concurrent workers.\n"
     ]
    },
    {
     "name": "stdout",
     "output_type": "stream",
     "text": [
      "Fitting 5 folds for each of 12 candidates, totalling 60 fits\n"
     ]
    },
    {
     "name": "stderr",
     "output_type": "stream",
     "text": [
      "[Parallel(n_jobs=-1)]: Done  34 tasks      | elapsed:   13.0s\n",
      "[Parallel(n_jobs=-1)]: Done  60 out of  60 | elapsed:   25.8s finished\n"
     ]
    }
   ],
   "source": [
    "#code from Kevin Chiv\n",
    "\n",
    "classifiers = {'KNN': KNeighborsClassifier(), \n",
    "               'LR': LogisticRegression(max_iter = 10000, solver ='saga'),\n",
    "               'DT': DecisionTreeClassifier(),\n",
    "               'RF': RandomForestClassifier(max_depth = 3), \n",
    "    \n",
    "              }\n",
    "\n",
    "param_dict = {'KNN': {'KNN__n_neighbors': [3, 5, 7]}, \n",
    "              'LR': {'LR__C': [0.001, 0.01, 0.1, 1, 10, 100, 1000]},\n",
    "              'DT': {'DT__max_depth': [3, 5, 7]},\n",
    "              'RF': {'RF__n_estimators': [100, 250, 500, 1000], \n",
    "                     'RF__max_depth': [3, 4, 5]}\n",
    "              \n",
    "             }\n",
    "\n",
    "results_dict = {}\n",
    "\n",
    "\n",
    "#we use the stratify version of k-fold to keep the class imbalance ratio\n",
    "kf = StratifiedKFold(n_splits = 5, shuffle = True, random_state = 42)\n",
    "\n",
    "for classifier_name, classifier in classifiers.items():\n",
    "    \n",
    "    #sampling is the first step, then classifying\n",
    "    #'sampling' is None because no sampling was best\n",
    "    #if 'sampling' is not None, change n_jobs in GridSearchCV to 1\n",
    "    steps = [('sampling', None),\n",
    "             (classifier_name, classifier)]\n",
    "    \n",
    "    model = Pipeline(steps)\n",
    "    \n",
    "    #fetch the parameters from param_dict\n",
    "    params = param_dict[classifier_name]\n",
    "    \n",
    "    #scoring is changed to roc_auc score\n",
    "    #we specify return_train_score = True to \n",
    "    #compare train and test to check for overfitting\n",
    "    #if 'sampling' is not None, change n_jobs in GridSearchCV to 1\n",
    "    #this is to avoid conflict among the workers \n",
    "    #due to sampling and modeling the training set, which changes across folds\n",
    "    grid = GridSearchCV(model, params, cv = kf, return_train_score = True,\n",
    "                        n_jobs = -1, scoring = 'roc_auc', verbose = True)\n",
    "\n",
    "    grid.fit(X_train, y_train)\n",
    "\n",
    "    results = grid.cv_results_\n",
    "    \n",
    "    scores = list(zip(results['params'], results['mean_train_score'], results['mean_test_score']))\n",
    "    scores = sorted(scores, key = lambda x:x[2], reverse = True)\n",
    "\n",
    "    results_dict[classifier_name] = scores"
   ]
  },
  {
   "cell_type": "code",
   "execution_count": 61,
   "metadata": {},
   "outputs": [
    {
     "name": "stdout",
     "output_type": "stream",
     "text": [
      "{'DT': [({'DT__max_depth': 7}, 0.6826191788534055, 0.6176521658733269),\n",
      "        ({'DT__max_depth': 5}, 0.6443961218927121, 0.6059540220942994),\n",
      "        ({'DT__max_depth': 3}, 0.6077188026915827, 0.5874903488141249)],\n",
      " 'KNN': [({'KNN__n_neighbors': 7}, 0.7489985508129606, 0.5734799341302868),\n",
      "         ({'KNN__n_neighbors': 5}, 0.777237741891464, 0.5699842071995236),\n",
      "         ({'KNN__n_neighbors': 3}, 0.835878014902397, 0.5538382295589716)],\n",
      " 'LR': [({'LR__C': 0.1}, 0.6408749892326377, 0.6122517400928018),\n",
      "        ({'LR__C': 1}, 0.6550731621711171, 0.6118662455608863),\n",
      "        ({'LR__C': 10}, 0.6575982255890364, 0.6102878866930657),\n",
      "        ({'LR__C': 100}, 0.6579552019486898, 0.6101200330946587),\n",
      "        ({'LR__C': 1000}, 0.6580435333083396, 0.6100694310597862),\n",
      "        ({'LR__C': 0.01}, 0.6155099431738175, 0.6015173940647623),\n",
      "        ({'LR__C': 0.001}, 0.6055947455338537, 0.5942038207984466)],\n",
      " 'RF': [({'RF__max_depth': 5, 'RF__n_estimators': 1000},\n",
      "         0.688409446297438,\n",
      "         0.631537302647525),\n",
      "        ({'RF__max_depth': 4, 'RF__n_estimators': 1000},\n",
      "         0.6754056360874172,\n",
      "         0.6306865385477122),\n",
      "        ({'RF__max_depth': 5, 'RF__n_estimators': 100},\n",
      "         0.6863056343574272,\n",
      "         0.6304781658145412),\n",
      "        ({'RF__max_depth': 5, 'RF__n_estimators': 500},\n",
      "         0.6879925431033884,\n",
      "         0.6303779046148221),\n",
      "        ({'RF__max_depth': 4, 'RF__n_estimators': 500},\n",
      "         0.6758132303515588,\n",
      "         0.6303433293841377),\n",
      "        ({'RF__max_depth': 3, 'RF__n_estimators': 1000},\n",
      "         0.6649093458357133,\n",
      "         0.6301683559829783),\n",
      "        ({'RF__max_depth': 5, 'RF__n_estimators': 250},\n",
      "         0.6880129400338169,\n",
      "         0.6297887691199171),\n",
      "        ({'RF__max_depth': 4, 'RF__n_estimators': 250},\n",
      "         0.674788488092132,\n",
      "         0.6297251115360403),\n",
      "        ({'RF__max_depth': 3, 'RF__n_estimators': 250},\n",
      "         0.6634241238225413,\n",
      "         0.6289707349423788),\n",
      "        ({'RF__max_depth': 3, 'RF__n_estimators': 500},\n",
      "         0.6648205052601692,\n",
      "         0.628660643748399),\n",
      "        ({'RF__max_depth': 4, 'RF__n_estimators': 100},\n",
      "         0.6710981774783127,\n",
      "         0.6255032828716217),\n",
      "        ({'RF__max_depth': 3, 'RF__n_estimators': 100},\n",
      "         0.6598504548253226,\n",
      "         0.6206778471458815)]}\n"
     ]
    }
   ],
   "source": [
    "pp.pprint(results_dict)"
   ]
  },
  {
   "cell_type": "code",
   "execution_count": null,
   "metadata": {},
   "outputs": [],
   "source": []
  },
  {
   "cell_type": "code",
   "execution_count": 62,
   "metadata": {},
   "outputs": [],
   "source": [
    "#plot all the ROC curves together \n",
    "#Code from Kevin Chiv\n",
    "\n",
    "def plot_roc_curves(classifiers, X_train, y_train, X_test, y_test, sampler = None):\n",
    "    \"\"\"\n",
    "        Function for plotting roc curves of classifiers for comparison\n",
    "        \n",
    "        :param classifiers: dictionary of classifiers\n",
    "        :param sampler: sampling method to use e.g. SMOTE\n",
    "        \n",
    "        :returns fpr: an array of false positive rate values from roc_curve\n",
    "        :returns tpr: an array of true positive rate values from roc_curve\n",
    "        :returns thresholds: an array of threshold values from roc_curve\n",
    "        :returns roc_auc: roc_auc scores for each classifier in classifiers\n",
    "    \"\"\"\n",
    "\n",
    "    fpr, tpr, thresholds = {}, {}, {}\n",
    "    roc_auc = {}\n",
    "\n",
    "\n",
    "    for classifier_name, classifier in classifiers.items():\n",
    "\n",
    "        #set n_jobs = -1 for faster performance\n",
    "        classifier = classifier.set_params(n_jobs = -1)\n",
    "\n",
    "        if sampler:\n",
    "            sampler.set_params(random_state = 42, n_jobs = -1)\n",
    "\n",
    "        steps = [('sampling', sampler),\n",
    "                 (classifier_name, classifier)]\n",
    "\n",
    "        model = Pipeline(steps)\n",
    "\n",
    "        model.fit(X_train, y_train)\n",
    "\n",
    "        y_proba = model.predict_proba(X_test)[:,1]\n",
    "\n",
    "        fpr[classifier_name], tpr[classifier_name], thresholds[classifier_name] = roc_curve(y_test, y_proba)\n",
    "\n",
    "        roc_auc[classifier_name] = round(auc(fpr[classifier_name], tpr[classifier_name]), 3)\n",
    "\n",
    "        print(classifier_name + ' roc_auc score: ' + str(roc_auc[classifier_name]))\n",
    "\n",
    "\n",
    "    plt.figure(figsize=(8, 8))\n",
    "\n",
    "    for classifier_name, classifier in classifiers.items():\n",
    "        sns.lineplot(fpr[classifier_name], tpr[classifier_name], err_style = None);\n",
    "\n",
    "    midline_points = np.arange(0, 1.05, 0.05) \n",
    "\n",
    "    plt.plot(midline_points, midline_points, linestyle ='--', color = 'black');\n",
    "    plt.title(\"ROC Curves for Different Classification Models\", y =1.05, fontsize = 16);\n",
    "    plt.xlabel('FPR', fontsize = 12, x = 1.05);\n",
    "    plt.ylabel('TPR', fontsize = 12, rotation =0, y = 1.05);\n",
    "    plt.legend(list(zip(classifiers.keys(), roc_auc.values())));\n",
    "\n",
    "    return fpr, tpr, thresholds, roc_auc"
   ]
  },
  {
   "cell_type": "code",
   "execution_count": 63,
   "metadata": {},
   "outputs": [
    {
     "name": "stdout",
     "output_type": "stream",
     "text": [
      "KNN roc_auc score: 0.554\n",
      "LR roc_auc score: 0.597\n",
      "RF roc_auc score: 0.612\n",
      "Ensemble roc_auc score: 0.581\n"
     ]
    },
    {
     "data": {
      "image/png": "[encoded data removed]",
      "text/plain": [
       "<Figure size 576x576 with 1 Axes>"
      ]
     },
     "metadata": {
      "needs_background": "light"
     },
     "output_type": "display_data"
    }
   ],
   "source": [
    "logit = LogisticRegression(C = 0.1, max_iter = 10000, random_state = 42,\n",
    "                        solver ='saga', class_weight = 'balanced')\n",
    "\n",
    "knn = KNeighborsClassifier(n_neighbors = 7)\n",
    "\n",
    "rf = RandomForestClassifier(max_depth = 3, n_estimators = 500, class_weight = 'balanced')\n",
    "\n",
    "tree = DecisionTreeClassifier(max_depth = 3, random_state=42)\n",
    "\n",
    "\n",
    "classifiers = {'KNN': knn, \n",
    "               'LR': logit, \n",
    "               'RF': rf,\n",
    "               'Ensemble': VotingClassifier(estimators=[('lr', logit), ('rf', rf), ('knn', knn)],\n",
    "                                            voting='soft', weights=[1, 1, 1])\n",
    "              }\n",
    "\n",
    "fpr, tpr, thresholds, roc_auc = plot_roc_curves(classifiers,  \n",
    "                                                X_train, y_train, X_test, y_test)"
   ]
  },
  {
   "cell_type": "markdown",
   "metadata": {},
   "source": [
    "Seems like Random Forest and Logistic Regression have the best ROC/AUC score. We will tune this model more to see if we can increase the score. "
   ]
  },
  {
   "cell_type": "code",
   "execution_count": null,
   "metadata": {},
   "outputs": [],
   "source": []
  },
  {
   "cell_type": "code",
   "execution_count": 64,
   "metadata": {},
   "outputs": [],
   "source": [
    "# perhaps if we include text and description together we will get better score. \n",
    "\n",
    "df['text_des'] = df['clean_text'].str.cat(df['clean_des'], sep= ' ')"
   ]
  },
  {
   "cell_type": "markdown",
   "metadata": {},
   "source": [
    "Repeating the same steps as the begining except using text and description added together\n"
   ]
  },
  {
   "cell_type": "code",
   "execution_count": 65,
   "metadata": {},
   "outputs": [
    {
     "name": "stdout",
     "output_type": "stream",
     "text": [
      "[[0 0 0 ... 0 0 0]\n",
      " [0 0 0 ... 0 0 0]\n",
      " [0 0 0 ... 0 0 0]\n",
      " ...\n",
      " [0 0 0 ... 0 0 0]\n",
      " [0 0 0 ... 0 0 0]\n",
      " [0 0 1 ... 0 0 0]]\n",
      "11146\n"
     ]
    }
   ],
   "source": [
    "count_vectorizer = CountVectorizer(ngram_range=(1, 1),  \n",
    "                                   stop_words='english', \n",
    "                                   token_pattern=\"\\\\b[a-z][a-z]+\\\\b\",\n",
    "                                   lowercase=True,\n",
    "                                   max_df = 0.8, max_features = 100)\n",
    "\n",
    "df2 = count_vectorizer.fit_transform(df['text_des'])\n",
    "print(df2.toarray())\n",
    "print(len(df2.toarray()))\n",
    "\n"
   ]
  },
  {
   "cell_type": "code",
   "execution_count": 66,
   "metadata": {},
   "outputs": [
    {
     "name": "stdout",
     "output_type": "stream",
     "text": [
      "       account  artist  best  better  big  business  check  com  come  day  \\\n",
      "0            0       0     0       0    0         0      0    0     0    0   \n",
      "1            0       0     0       0    0         0      0    0     0    0   \n",
      "2            0       0     0       0    0         0      0    0     0    0   \n",
      "3            0       0     0       0    0         0      0    0     0    0   \n",
      "4            0       0     0       0    0         0      0    0     0    0   \n",
      "...        ...     ...   ...     ...  ...       ...    ...  ...   ...  ...   \n",
      "11141        0       0     0       0    0         0      0    0     0    0   \n",
      "11142        0       0     0       0    0         0      0    0     0    0   \n",
      "11143        0       0     0       0    0         0      0    1     0    0   \n",
      "11144        0       0     0       0    0         0      0    0     0    0   \n",
      "11145        0       0     1       0    0         0      0    0     0    0   \n",
      "\n",
      "       ...  use  ve  video  want  way  week  work  world  year  years  \n",
      "0      ...    0   0      0     0    0     0     0      0     0      0  \n",
      "1      ...    0   0      0     0    0     0     0      0     0      0  \n",
      "2      ...    0   0      0     0    0     0     0      0     0      0  \n",
      "3      ...    1   0      0     0    0     0     0      0     0      0  \n",
      "4      ...    0   0      0     0    0     0     0      0     0      0  \n",
      "...    ...  ...  ..    ...   ...  ...   ...   ...    ...   ...    ...  \n",
      "11141  ...    0   0      0     0    0     0     0      0     0      0  \n",
      "11142  ...    0   0      0     0    0     0     0      0     0      0  \n",
      "11143  ...    0   0      0     0    0     0     0      0     0      0  \n",
      "11144  ...    0   0      0     0    0     0     0      0     0      0  \n",
      "11145  ...    0   0      0     0    0     0     0      0     0      0  \n",
      "\n",
      "[11146 rows x 100 columns]\n"
     ]
    }
   ],
   "source": [
    "feature_names = count_vectorizer.get_feature_names()\n",
    "df_countvec2 = pd.DataFrame(df2.toarray(), columns=feature_names)\n",
    "\n",
    "print(df_countvec2)\n",
    "\n"
   ]
  },
  {
   "cell_type": "code",
   "execution_count": 67,
   "metadata": {},
   "outputs": [],
   "source": [
    "df_merge2 = df.merge(df_countvec2, left_index=True, right_index= True)"
   ]
  },
  {
   "cell_type": "code",
   "execution_count": 69,
   "metadata": {},
   "outputs": [],
   "source": [
    "df_merge2['sidebar_color'] = df_merge2.sidebar_color.str[0]"
   ]
  },
  {
   "cell_type": "code",
   "execution_count": 70,
   "metadata": {},
   "outputs": [],
   "source": [
    "dummies = pd.get_dummies(df_merge2[['sidebar_color']], drop_first=True)\n",
    "\n",
    "df_merge2 = pd.concat([df_merge2.drop(['sidebar_color'], axis=1), dummies], axis = 1)"
   ]
  },
  {
   "cell_type": "code",
   "execution_count": 71,
   "metadata": {},
   "outputs": [],
   "source": [
    "df_merge2 = df_merge2[df_merge2.gender != 'unknown']\n",
    "df_merge2 = df_merge2[df_merge2.gender != 'brand']"
   ]
  },
  {
   "cell_type": "code",
   "execution_count": 73,
   "metadata": {},
   "outputs": [
    {
     "data": {
      "text/plain": [
       "array(['male', 'female'], dtype=object)"
      ]
     },
     "execution_count": 73,
     "metadata": {},
     "output_type": "execute_result"
    }
   ],
   "source": [
    "df_merge2.gender.unique()"
   ]
  },
  {
   "cell_type": "code",
   "execution_count": 74,
   "metadata": {
    "scrolled": true
   },
   "outputs": [],
   "source": [
    "df_merge2.gender = df_merge2.gender.replace({'male': 1, 'female': 0})"
   ]
  },
  {
   "cell_type": "code",
   "execution_count": 75,
   "metadata": {},
   "outputs": [],
   "source": [
    "X = df_merge2.drop(['gender', 'clean_des','clean_text', 'text_des'], axis=1).values\n",
    "y = df_merge2['gender'].values"
   ]
  },
  {
   "cell_type": "code",
   "execution_count": 76,
   "metadata": {},
   "outputs": [],
   "source": [
    "mm_scaler = MinMaxScaler()\n",
    "mm_scaler.fit(X_train)\n",
    "X_train = mm_scaler.transform(X_train)\n",
    "X_test = mm_scaler.transform(X_test)"
   ]
  },
  {
   "cell_type": "code",
   "execution_count": 77,
   "metadata": {},
   "outputs": [],
   "source": [
    "X_train, X_test, y_train, y_test = train_test_split(X, y, test_size=0.2, random_state = 42)"
   ]
  },
  {
   "cell_type": "markdown",
   "metadata": {},
   "source": [
    "## Logistic Regression"
   ]
  },
  {
   "cell_type": "code",
   "execution_count": 78,
   "metadata": {},
   "outputs": [
    {
     "name": "stdout",
     "output_type": "stream",
     "text": [
      "The score for logistic regression is\n",
      "Training:  56.48%\n",
      "Test set:  55.33%\n",
      "Default threshold:\n",
      "Precision: 0.5691,   Recall: 0.5226\n",
      "The F1 score is: 0.5449\n"
     ]
    },
    {
     "name": "stderr",
     "output_type": "stream",
     "text": [
      "/opt/anaconda3/lib/python3.7/site-packages/sklearn/linear_model/logistic.py:432: FutureWarning: Default solver will be changed to 'lbfgs' in 0.22. Specify a solver to silence this warning.\n",
      "  FutureWarning)\n"
     ]
    }
   ],
   "source": [
    "logit = LogisticRegression(C = 0.95)\n",
    "logit.fit(X_train, y_train)\n",
    "print(\"The score for logistic regression is\")\n",
    "print(\"Training: {:6.2f}%\".format(100*logit.score(X_train, y_train)))\n",
    "print(\"Test set: {:6.2f}%\".format(100*logit.score(X_test, y_test)))\n",
    "\n",
    "y_predict = logit.predict(X_test)\n",
    "print(\"Default threshold:\")\n",
    "print(\"Precision: {:6.4f},   Recall: {:6.4f}\".format(precision_score(y_test, y_predict), \n",
    "                                                     recall_score(y_test, y_predict)))\n",
    "print(\"The F1 score is: {:6.4f}\".format(f1_score(y_test, y_predict)))"
   ]
  },
  {
   "cell_type": "code",
   "execution_count": 79,
   "metadata": {},
   "outputs": [
    {
     "name": "stdout",
     "output_type": "stream",
     "text": [
      "ROC AUC score =  0.5678722560169267\n"
     ]
    },
    {
     "data": {
      "image/png": "[encoded data removed]",
      "text/plain": [
       "<Figure size 432x288 with 1 Axes>"
      ]
     },
     "metadata": {
      "needs_background": "light"
     },
     "output_type": "display_data"
    }
   ],
   "source": [
    "fpr, tpr, thresholds = roc_curve(y_test, logit.predict_proba(X_test)[:,1])\n",
    "plt.plot(fpr, tpr,lw=2)\n",
    "plt.plot([0,1],[0,1],c='violet',ls='--')\n",
    "plt.xlim([-0.05,1.05])\n",
    "plt.ylim([-0.05,1.05])\n",
    "\n",
    "\n",
    "plt.xlabel('False positive rate')\n",
    "plt.ylabel('True positive rate')\n",
    "plt.title('ROC curve for gender prediction');\n",
    "print(\"ROC AUC score = \", roc_auc_score(y_test, logit.predict_proba(X_test)[:,1]))"
   ]
  },
  {
   "cell_type": "code",
   "execution_count": 84,
   "metadata": {},
   "outputs": [
    {
     "name": "stdout",
     "output_type": "stream",
     "text": [
      "The score for logistic regression is\n",
      "Training:  56.48%\n",
      "Test set:  55.33%\n",
      "Threshold of 0.06:\n",
      "Precision: 0.5116,   Recall: 1.0000\n",
      "The F1 score is: 0.6769\n"
     ]
    },
    {
     "name": "stderr",
     "output_type": "stream",
     "text": [
      "/opt/anaconda3/lib/python3.7/site-packages/sklearn/linear_model/logistic.py:432: FutureWarning: Default solver will be changed to 'lbfgs' in 0.22. Specify a solver to silence this warning.\n",
      "  FutureWarning)\n"
     ]
    }
   ],
   "source": [
    "# Adjusting the threshold to 0.06. \n",
    "\n",
    "\n",
    "logit = LogisticRegression(C = 0.95)\n",
    "logit.fit(X_train, y_train)\n",
    "print(\"The score for logistic regression is\")\n",
    "print(\"Training: {:6.2f}%\".format(100*logit.score(X_train, y_train)))\n",
    "print(\"Test set: {:6.2f}%\".format(100*logit.score(X_test, y_test)))\n",
    "\n",
    "y_predict = (logit.predict_proba(X_test)[:,1] > 0.06)\n",
    "print(\"Threshold of 0.06:\")\n",
    "print(\"Precision: {:6.4f},   Recall: {:6.4f}\".format(precision_score(y_test, y_predict), \n",
    "                                                     recall_score(y_test, y_predict)))\n",
    "print(\"The F1 score is: {:6.4f}\".format(f1_score(y_test, y_predict)))\n",
    "\n"
   ]
  },
  {
   "cell_type": "code",
   "execution_count": 92,
   "metadata": {},
   "outputs": [
    {
     "data": {
      "image/png": "[encoded data removed]",
      "text/plain": [
       "<Figure size 480x320 with 1 Axes>"
      ]
     },
     "metadata": {
      "needs_background": "light"
     },
     "output_type": "display_data"
    }
   ],
   "source": [
    "precision_curve, recall_curve, threshold_curve = precision_recall_curve(y_test, logit.predict_proba(X_test)[:,1] )\n",
    "\n",
    "plt.figure(dpi=80)\n",
    "plt.plot(threshold_curve, precision_curve[1:],label='precision')\n",
    "plt.plot(threshold_curve, recall_curve[1:], label='recall')\n",
    "plt.legend(loc='lower left')\n",
    "plt.xlabel('Threshold');\n",
    "plt.ylabel('Threshold');\n",
    "plt.title('Precision and Recall Curves');"
   ]
  },
  {
   "cell_type": "code",
   "execution_count": 125,
   "metadata": {},
   "outputs": [
    {
     "data": {
      "image/png": "[encoded data removed]",
      "text/plain": [
       "<Figure size 900x600 with 2 Axes>"
      ]
     },
     "metadata": {
      "needs_background": "light"
     },
     "output_type": "display_data"
    }
   ],
   "source": [
    "logit_confusion = confusion_matrix(y_test, logit.predict(X_test))\n",
    "plt.figure(dpi=150)\n",
    "\n",
    "ax = plt.subplot()\n",
    "sns.heatmap(logit_confusion, cmap=plt.cm.Blues, annot=True, fmt='g')\n",
    "\n",
    "ax.xaxis.set_ticklabels(['Female', 'Male']);\n",
    "ax.yaxis.set_ticklabels(['Female', 'Male'])\n",
    "\n",
    "\n",
    "bottom, top = ax.get_ylim()\n",
    "ax.set_ylim(bottom + 0.5, top - 0.5)\n",
    "plt.xlabel('Predicted Gender')\n",
    "plt.ylabel('Actual Gender')\n",
    "plt.title('Logistic regression confusion matrix');\n",
    "\n"
   ]
  },
  {
   "cell_type": "markdown",
   "metadata": {},
   "source": [
    "## Random Forest"
   ]
  },
  {
   "cell_type": "code",
   "execution_count": 88,
   "metadata": {},
   "outputs": [
    {
     "name": "stderr",
     "output_type": "stream",
     "text": [
      "/opt/anaconda3/lib/python3.7/site-packages/sklearn/ensemble/forest.py:245: FutureWarning: The default value of n_estimators will change from 10 in version 0.20 to 100 in 0.22.\n",
      "  \"10 in version 0.20 to 100 in 0.22.\", FutureWarning)\n"
     ]
    },
    {
     "data": {
      "text/plain": [
       "0.5681233933161953"
      ]
     },
     "execution_count": 88,
     "metadata": {},
     "output_type": "execute_result"
    }
   ],
   "source": [
    "rf = RandomForestClassifier(max_depth = 3)\n",
    "rf.fit(X_train, y_train)\n",
    "rf.score(X_test, y_test)"
   ]
  },
  {
   "cell_type": "code",
   "execution_count": 89,
   "metadata": {},
   "outputs": [
    {
     "name": "stdout",
     "output_type": "stream",
     "text": [
      "The score for logistic regression is\n",
      "Training:  59.68%\n",
      "Test set:  56.81%\n",
      "Default threshold:\n",
      "Precision: 0.6058,   Recall: 0.4460\n",
      "The F1 score is: 0.5137\n"
     ]
    }
   ],
   "source": [
    "print(\"The score for logistic regression is\")\n",
    "print(\"Training: {:6.2f}%\".format(100*rf.score(X_train, y_train)))\n",
    "print(\"Test set: {:6.2f}%\".format(100*rf.score(X_test, y_test)))\n",
    "\n",
    "y_predict = rf.predict(X_test)\n",
    "print(\"Default threshold:\")\n",
    "print(\"Precision: {:6.4f},   Recall: {:6.4f}\".format(precision_score(y_test, y_predict), \n",
    "                                                     recall_score(y_test, y_predict)))\n",
    "print(\"The F1 score is: {:6.4f}\".format(f1_score(y_test, y_predict)))"
   ]
  },
  {
   "cell_type": "code",
   "execution_count": 90,
   "metadata": {},
   "outputs": [
    {
     "name": "stdout",
     "output_type": "stream",
     "text": [
      "ROC AUC score =  0.6126900952129066\n"
     ]
    },
    {
     "data": {
      "image/png": "[encoded data removed]",
      "text/plain": [
       "<Figure size 432x288 with 1 Axes>"
      ]
     },
     "metadata": {
      "needs_background": "light"
     },
     "output_type": "display_data"
    }
   ],
   "source": [
    "fpr, tpr, thresholds = roc_curve(y_test, rf.predict_proba(X_test)[:,1])\n",
    "plt.plot(fpr, tpr,lw=2)\n",
    "plt.plot([0,1],[0,1],c='violet',ls='--')\n",
    "plt.xlim([-0.05,1.05])\n",
    "plt.ylim([-0.05,1.05])\n",
    "\n",
    "\n",
    "plt.xlabel('False positive rate')\n",
    "plt.ylabel('True positive rate')\n",
    "plt.title('ROC curve for gender prediction');\n",
    "print(\"ROC AUC score = \", roc_auc_score(y_test, rf.predict_proba(X_test)[:,1]))"
   ]
  },
  {
   "cell_type": "code",
   "execution_count": null,
   "metadata": {},
   "outputs": [],
   "source": []
  },
  {
   "cell_type": "code",
   "execution_count": null,
   "metadata": {},
   "outputs": [],
   "source": []
  }
 ],
 "metadata": {
  "kernelspec": {
   "display_name": "Python 3",
   "language": "python",
   "name": "python3"
  },
  "language_info": {
   "codemirror_mode": {
    "name": "ipython",
    "version": 3
   },
   "file_extension": ".py",
   "mimetype": "text/x-python",
   "name": "python",
   "nbconvert_exporter": "python",
   "pygments_lexer": "ipython3",
   "version": "3.7.4"
  }
 },
 "nbformat": 4,
 "nbformat_minor": 2
}
